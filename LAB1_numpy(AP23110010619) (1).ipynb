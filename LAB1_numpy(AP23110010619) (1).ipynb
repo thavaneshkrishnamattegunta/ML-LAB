{
  "nbformat": 4,
  "nbformat_minor": 0,
  "metadata": {
    "colab": {
      "provenance": []
    },
    "kernelspec": {
      "name": "python3",
      "display_name": "Python 3"
    },
    "language_info": {
      "name": "python"
    }
  },
  "cells": [
    {
      "cell_type": "code",
      "execution_count": 1,
      "metadata": {
        "colab": {
          "base_uri": "https://localhost:8080/"
        },
        "id": "s-6kTXzpj9-Z",
        "outputId": "3f0cce9a-4964-45ef-8e6a-5f65885aec6c"
      },
      "outputs": [
        {
          "output_type": "stream",
          "name": "stdout",
          "text": [
            "<class 'numpy.ndarray'>\n",
            "(3,)\n",
            "0\n",
            "1\n",
            "2\n",
            "[5 1 2]\n",
            "(2, 3)\n",
            "[[0 1 2]\n",
            " [3 4 5]]\n",
            "0 1 3\n"
          ]
        }
      ],
      "source": [
        "import numpy as np\n",
        "a = np.array([0, 1, 2])\n",
        "print(type(a))\n",
        "print(a.shape)\n",
        "print(a[0])\n",
        "print(a[1])\n",
        "print(a[2])\n",
        "a[0] = 5\n",
        "print(a)\n",
        "b = np.array([[0,1,2],[3,4,5]])\n",
        "print(b.shape)\n",
        "print(b)\n",
        "print(b[0, 0], b[0, 1], b[1, 0])"
      ]
    },
    {
      "cell_type": "code",
      "source": [
        "a = np.zeros((3,3))\n",
        "print(a)\n",
        "b = np.ones((2,2))\n",
        "print(b)\n",
        "c = np.full((3,3), 7)\n",
        "print(c)\n",
        "d = np.random.random((3,3))\n",
        "print(d)\n",
        "e = np.eye(3)\n",
        "print(e)\n",
        "f = np.array([2, 3, 1, 0])\n",
        "print(f)\n",
        "g = np.arange(20)\n",
        "print(g)\n",
        "h = np.array([[0, 1,2.0],[0,0,0],(1+1j,3.,2.)])\n",
        "print(h)\n",
        "i = np.arange(1, 8, dtype=float)\n",
        "print(i)\n",
        "j = np.linspace(2,4,5)\n",
        "print(j)"
      ],
      "metadata": {
        "colab": {
          "base_uri": "https://localhost:8080/"
        },
        "id": "8DOuKbE1nKzN",
        "outputId": "2e9e4e0e-571c-4ee1-8b85-32520acdb079"
      },
      "execution_count": 7,
      "outputs": [
        {
          "output_type": "stream",
          "name": "stdout",
          "text": [
            "[[0. 0. 0.]\n",
            " [0. 0. 0.]\n",
            " [0. 0. 0.]]\n",
            "[[1. 1.]\n",
            " [1. 1.]]\n",
            "[[7 7 7]\n",
            " [7 7 7]\n",
            " [7 7 7]]\n",
            "[[0.8534183  0.68211855 0.12819169]\n",
            " [0.22672173 0.13229153 0.8704949 ]\n",
            " [0.70459323 0.5978562  0.68872534]]\n",
            "[[1. 0. 0.]\n",
            " [0. 1. 0.]\n",
            " [0. 0. 1.]]\n",
            "[2 3 1 0]\n",
            "[ 0  1  2  3  4  5  6  7  8  9 10 11 12 13 14 15 16 17 18 19]\n",
            "[[0.+0.j 1.+0.j 2.+0.j]\n",
            " [0.+0.j 0.+0.j 0.+0.j]\n",
            " [1.+1.j 3.+0.j 2.+0.j]]\n",
            "[1. 2. 3. 4. 5. 6. 7.]\n",
            "[2.  2.5 3.  3.5 4. ]\n"
          ]
        }
      ]
    },
    {
      "cell_type": "code",
      "source": [
        "x = np.array([0, 1])\n",
        "y = np.array([2.0, 3.0])\n",
        "# Force a particular datatype\n",
        "z = np.array([5, 6], dtype=np.int64)\n",
        "print(x.dtype, y.dtype, z.dtype)"
      ],
      "metadata": {
        "colab": {
          "base_uri": "https://localhost:8080/"
        },
        "id": "8eHL2TU6s1Mn",
        "outputId": "cd59a6ab-3846-44ae-be2c-55a54bdc9fc6"
      },
      "execution_count": 8,
      "outputs": [
        {
          "output_type": "stream",
          "name": "stdout",
          "text": [
            "int64 float64 int64\n"
          ]
        }
      ]
    },
    {
      "cell_type": "code",
      "source": [
        "import numpy as np\n",
        "arr = np.array([[-1, 2, 0, 4],\n",
        "[4, -0.5, 6, 0],\n",
        "[2.6, 0, 7, 8],\n",
        "[3, -7, 4, 2.0]])\n",
        "temp = arr[:2, ::2]\n",
        "print (\"Array with first 2 rows and alternate columns(0 and 2):\\n\", temp)\n",
        "temp = arr[[0, 1, 2, 3], [3, 2, 1, 0]]\n",
        "print (\"\\nElements at indices (0, 3), (1, 2), (2, 1),(3, 0):\\n\", temp)\n",
        "cond = arr > 0\n",
        "temp = arr[cond]\n",
        "print (\"\\nElements greater than 0:\\n\", temp)"
      ],
      "metadata": {
        "colab": {
          "base_uri": "https://localhost:8080/"
        },
        "id": "EDG7aov2s4e0",
        "outputId": "22ac2495-bee2-405e-903e-37831aa45855"
      },
      "execution_count": 9,
      "outputs": [
        {
          "output_type": "stream",
          "name": "stdout",
          "text": [
            "Array with first 2 rows and alternate columns(0 and 2):\n",
            " [[-1.  0.]\n",
            " [ 4.  6.]]\n",
            "\n",
            "Elements at indices (0, 3), (1, 2), (2, 1),(3, 0):\n",
            " [4. 6. 0. 3.]\n",
            "\n",
            "Elements greater than 0:\n",
            " [2.  4.  4.  6.  2.6 7.  8.  3.  4.  2. ]\n"
          ]
        }
      ]
    },
    {
      "cell_type": "code",
      "source": [
        "import numpy as np\n",
        "a = np.array([1, 2, 5, 3])\n",
        "print (\"Adding 1 to every element:\", a+1)\n",
        "print (\"Subtracting 3 from each element:\", a-3)\n",
        "print (\"Multiplying each element by 10:\", a*10)\n",
        "print (\"Squaring each element:\", a**2)\n",
        "a *= 2\n",
        "print (\"Doubled each element of original array:\", a)\n",
        "a = np.array([[1, 2, 3], [3, 4, 5], [9, 6, 0]])\n",
        "print (\"\\nOriginal array:\\n\", a)\n",
        "print (\"Transpose of array:\\n\", a.T)"
      ],
      "metadata": {
        "colab": {
          "base_uri": "https://localhost:8080/"
        },
        "id": "2zY0wWJ6tObv",
        "outputId": "3c055a72-8f60-45bc-9746-c632bd273d04"
      },
      "execution_count": 10,
      "outputs": [
        {
          "output_type": "stream",
          "name": "stdout",
          "text": [
            "Adding 1 to every element: [2 3 6 4]\n",
            "Subtracting 3 from each element: [-2 -1  2  0]\n",
            "Multiplying each element by 10: [10 20 50 30]\n",
            "Squaring each element: [ 1  4 25  9]\n",
            "Doubled each element of original array: [ 2  4 10  6]\n",
            "\n",
            "Original array:\n",
            " [[1 2 3]\n",
            " [3 4 5]\n",
            " [9 6 0]]\n",
            "Transpose of array:\n",
            " [[1 3 9]\n",
            " [2 4 6]\n",
            " [3 5 0]]\n"
          ]
        }
      ]
    },
    {
      "cell_type": "code",
      "source": [
        "import numpy as np\n",
        "arr = np.array([[1, 5, 6],\n",
        "[4, 7, 2],\n",
        "[3, 1, 9]])\n",
        "print (\"Largest element is:\", arr.max())\n",
        "print (\"Row-wise maximum elements:\",arr.max(axis = 1))\n",
        "print (\"Column-wise minimum elements:\",arr.min(axis = 0))\n",
        "print (\"Sum of all array elements:\",arr.sum())\n",
        "print (\"Cumulative sum along each row:\\n\",arr.cumsum(axis = 1))"
      ],
      "metadata": {
        "colab": {
          "base_uri": "https://localhost:8080/"
        },
        "id": "E03ZL3zxtq9F",
        "outputId": "9db43de4-b4ec-40ba-9d5d-ee07e193632c"
      },
      "execution_count": 11,
      "outputs": [
        {
          "output_type": "stream",
          "name": "stdout",
          "text": [
            "Largest element is: 9\n",
            "Row-wise maximum elements: [6 7 9]\n",
            "Column-wise minimum elements: [1 1 2]\n",
            "Sum of all array elements: 38\n",
            "Cumulative sum along each row:\n",
            " [[ 1  6 12]\n",
            " [ 4 11 13]\n",
            " [ 3  4 13]]\n"
          ]
        }
      ]
    },
    {
      "cell_type": "code",
      "source": [
        "import numpy as np\n",
        "a = np.array([[1, 2],\n",
        "[3, 4]])\n",
        "b = np.array([[4, 3],\n",
        "[2, 1]])\n",
        "print (\"Array sum:\\n\", a + b)\n",
        "print (\"Array multiplication:\\n\", a*b)\n",
        "print (\"Matrix multiplication:\\n\", a.dot(b))"
      ],
      "metadata": {
        "colab": {
          "base_uri": "https://localhost:8080/"
        },
        "id": "MEigYpe8txkJ",
        "outputId": "291ead3a-206b-4ca0-da2b-d4085a3c30fb"
      },
      "execution_count": 12,
      "outputs": [
        {
          "output_type": "stream",
          "name": "stdout",
          "text": [
            "Array sum:\n",
            " [[5 5]\n",
            " [5 5]]\n",
            "Array multiplication:\n",
            " [[4 6]\n",
            " [6 4]]\n",
            "Matrix multiplication:\n",
            " [[ 8  5]\n",
            " [20 13]]\n"
          ]
        }
      ]
    },
    {
      "cell_type": "code",
      "source": [
        "import numpy as np\n",
        "a = np.array([0, np.pi/2, np.pi])\n",
        "print (\"Sine values of array elements:\", np.sin(a))\n",
        "a = np.array([0, 1, 2, 3])\n",
        "print (\"Exponent of array elements:\", np.exp(a))\n",
        "print (\"Square root of array elements:\", np.sqrt(a))"
      ],
      "metadata": {
        "colab": {
          "base_uri": "https://localhost:8080/"
        },
        "id": "e7WIs80At9M9",
        "outputId": "d88feb1a-f784-463d-f1f9-b34a5fe40777"
      },
      "execution_count": 13,
      "outputs": [
        {
          "output_type": "stream",
          "name": "stdout",
          "text": [
            "Sine values of array elements: [0.0000000e+00 1.0000000e+00 1.2246468e-16]\n",
            "Exponent of array elements: [ 1.          2.71828183  7.3890561  20.08553692]\n",
            "Square root of array elements: [0.         1.         1.41421356 1.73205081]\n"
          ]
        }
      ]
    },
    {
      "cell_type": "code",
      "source": [
        "import numpy as np\n",
        "arr = np.array([[-1, 2, 0, 4],\n",
        "[4, -0.5, 6, 0],\n",
        "[2.6, 0, 7, 8],\n",
        "[3, -7, 4, 2.0]])\n",
        "inverse = np.linalg.inv(arr)\n",
        "inverse"
      ],
      "metadata": {
        "colab": {
          "base_uri": "https://localhost:8080/"
        },
        "id": "3UDGCPxuuJt8",
        "outputId": "4ec2c15a-97d0-46f1-aa7c-9c0ff9d9f25d"
      },
      "execution_count": 14,
      "outputs": [
        {
          "output_type": "execute_result",
          "data": {
            "text/plain": [
              "array([[ 4.05707196,  1.98511166, -2.28287841,  1.01736973],\n",
              "       [ 0.50620347,  0.30272953, -0.24813896, -0.01985112],\n",
              "       [-2.66253102, -1.13151365,  1.50124069, -0.67990074],\n",
              "       [ 1.01116625,  0.34491315, -0.44665012,  0.26426799]])"
            ]
          },
          "metadata": {},
          "execution_count": 14
        }
      ]
    },
    {
      "cell_type": "code",
      "source": [
        "import numpy as np\n",
        "data = np.genfromtxt('fitness.txt', delimiter='\\t', skip_header=1, dtype=None, encoding='utf-8')\n",
        "print(data[:20])"
      ],
      "metadata": {
        "colab": {
          "base_uri": "https://localhost:8080/"
        },
        "id": "TM-gZuNE37gH",
        "outputId": "3cf94a95-6bc3-4d0e-dbe5-4710cc75bc92"
      },
      "execution_count": 23,
      "outputs": [
        {
          "output_type": "stream",
          "name": "stdout",
          "text": [
            "[('06-10-2017', 5464, 200, 181, 5,   0, 66)\n",
            " ('07-10-2017', 6041, 100, 197, 8,   0, 66)\n",
            " ('08-10-2017',   25, 100,   0, 5,   0, 66)\n",
            " ('09-10-2017', 5461, 100, 174, 4,   0, 66)\n",
            " ('10-10-2017', 6915, 200, 223, 5, 500, 66)\n",
            " ('11-10-2017', 4545, 100, 149, 6,   0, 66)\n",
            " ('12-10-2017', 4340, 100, 140, 6,   0, 66)\n",
            " ('13-10-2017', 1230, 100,  38, 7,   0, 66)\n",
            " ('14-10-2017',   61, 100,   1, 5,   0, 66)\n",
            " ('15-10-2017', 1258, 100,  40, 6,   0, 65)\n",
            " ('16-10-2017', 3148, 100, 101, 8,   0, 65)\n",
            " ('17-10-2017', 4687, 100, 152, 5,   0, 65)\n",
            " ('18-10-2017', 4732, 300, 150, 6, 500, 65)\n",
            " ('19-10-2017', 3519, 100, 113, 7,   0, 65)\n",
            " ('20-10-2017', 1580, 100,  49, 5,   0, 65)\n",
            " ('21-10-2017', 2822, 100,  86, 6,   0, 65)\n",
            " ('22-10-2017',  181, 100,   6, 8,   0, 65)\n",
            " ('23-10-2017', 3158, 200,  99, 5,   0, 65)\n",
            " ('24-10-2017', 4383, 200, 143, 4,   0, 64)\n",
            " ('25-10-2017', 3881, 200, 125, 5,   0, 64)]\n"
          ]
        }
      ]
    }
  ]
}